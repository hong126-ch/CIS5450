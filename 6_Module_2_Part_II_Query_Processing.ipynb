{
 "cells": [
  {
   "cell_type": "markdown",
   "metadata": {
    "colab_type": "text",
    "id": "view-in-github"
   },
   "source": [
    "<a href=\"https://colab.research.google.com/github/hong126-ch/CIS5450/blob/main/6_Module_2_Part_II_Query_Processing.ipynb\" target=\"_parent\"><img src=\"https://colab.research.google.com/assets/colab-badge.svg\" alt=\"Open In Colab\"/></a>"
   ]
  },
  {
   "cell_type": "markdown",
   "metadata": {
    "id": "49bwxLwZBJw7"
   },
   "source": [
    "# Lecture Module 2.2: Making Choices about Data Processing\n",
    "\n",
    "## LinkedIn Social Analysis\n",
    "\n",
    "Our next module explores concepts in:\n",
    "\n",
    "* Algorithmic implications of design choices\n",
    "* Techniques for indexing, parallelism, and sequence\n",
    "\n",
    "It sets the stage for Module 3, which focuses on cloud/cluster-compute data processing.\n",
    "\n"
   ]
  },
  {
   "cell_type": "code",
   "execution_count": null,
   "metadata": {
    "colab": {
     "base_uri": "https://localhost:8080/"
    },
    "id": "XWdHUSWxS7un",
    "outputId": "b3c89d7f-da02-4042-c4a8-7d77bf1f5308"
   },
   "outputs": [],
   "source": [
    "!wget -nc https://storage.googleapis.com/penn-cis5450/linkedin_anon.jsonl"
   ]
  },
  {
   "cell_type": "markdown",
   "metadata": {
    "id": "DartjPIt6Y7J"
   },
   "source": [
    "## Access Patterns\n",
    "\n",
    "Let's create two data structures, an integer list and a dictionary (hash map).  Each will have the same data."
   ]
  },
  {
   "cell_type": "code",
   "execution_count": null,
   "metadata": {
    "id": "tV7iGScA6bgu"
   },
   "outputs": [],
   "source": [
    "intlist = []\n",
    "for i in range(0,5000000):\n",
    "  intlist.append((i+1,'a value'))\n",
    "\n",
    "intdict = {}\n",
    "for i in range(0,5000000):\n",
    "  intdict[i] = ((i+1,'a value'))"
   ]
  },
  {
   "cell_type": "code",
   "execution_count": null,
   "metadata": {
    "colab": {
     "base_uri": "https://localhost:8080/"
    },
    "id": "TIND_ce561-A",
    "outputId": "0f28f5b9-e1a6-4ed1-9cf1-639828eb684b"
   },
   "outputs": [],
   "source": [
    "%%time\n",
    "count = 0\n",
    "for i in range(0,len(intlist)):\n",
    "  count += intlist[i][0]"
   ]
  },
  {
   "cell_type": "code",
   "execution_count": null,
   "metadata": {
    "colab": {
     "base_uri": "https://localhost:8080/"
    },
    "id": "eTP2Zp6F673J",
    "outputId": "20f35b4f-e607-4569-cce5-155de25bfa95"
   },
   "outputs": [],
   "source": [
    "%%time\n",
    "count = 0\n",
    "for i in range(0,len(intdict)):\n",
    "  count += intdict[i][0]"
   ]
  },
  {
   "cell_type": "code",
   "execution_count": null,
   "metadata": {
    "colab": {
     "base_uri": "https://localhost:8080/"
    },
    "id": "ERhe6Ewg8mZn",
    "outputId": "4939afb8-2272-425f-84d8-34da9359a4a5"
   },
   "outputs": [],
   "source": [
    "%%time\n",
    "# All 50,000+ records from linkedin\n",
    "linked_in = open('linkedin_anon.jsonl')\n",
    "\n",
    "copied_data = open('linkedin_anon_copy.jsonl','w', buffering=1)\n",
    "\n",
    "count = 0\n",
    "for repeat in range(0,10):\n",
    "  linked_in.seek(0)\n",
    "  for line in linked_in:\n",
    "    count += 1\n",
    "    copied_data.write(line)\n",
    "\n",
    "print (f\"Copied {count} records\")"
   ]
  },
  {
   "cell_type": "code",
   "execution_count": null,
   "metadata": {
    "colab": {
     "base_uri": "https://localhost:8080/"
    },
    "id": "qDwlpNLS91ER",
    "outputId": "aa464d31-fdcf-469b-d943-f9c602cf99e8"
   },
   "outputs": [],
   "source": [
    "%%time\n",
    "# All 50,000+ records from linkedin\n",
    "linked_in = open('linkedin_anon.jsonl')\n",
    "\n",
    "copied_data = open('linkedin_anon_copy.jsonl','w', buffering=4096)\n",
    "\n",
    "count = 0\n",
    "for repeat in range(0,10):\n",
    "  linked_in.seek(0)\n",
    "  for line in linked_in:\n",
    "    count += 1\n",
    "    copied_data.write(line)\n",
    "\n",
    "print (f\"Copied {count} records\")"
   ]
  },
  {
   "cell_type": "markdown",
   "metadata": {
    "id": "SCWrRHRXBJxq"
   },
   "source": [
    "# Big Data Takes a Long Time to Process\n",
    "\n",
    "Now that we've seen how to do fairly complex queries over data in relations, we'll \"pop back\" to our big data example, which is the LinkedIn dataset.  Recall that we had a segment of the LinkedIn input file in our previous examples earlier in this module."
   ]
  },
  {
   "cell_type": "code",
   "execution_count": null,
   "metadata": {
    "colab": {
     "base_uri": "https://localhost:8080/"
    },
    "id": "V648_1nFTAjI",
    "outputId": "a126ac9e-f6a6-4709-e3d3-7939c0bd04f4"
   },
   "outputs": [],
   "source": [
    "!pip3 install lxml\n",
    "!pip3 install duckdb"
   ]
  },
  {
   "cell_type": "code",
   "execution_count": null,
   "metadata": {
    "id": "DZ64kVG7TCWr"
   },
   "outputs": [],
   "source": [
    "import pandas as pd\n",
    "import numpy as np\n",
    "\n",
    "# JSON parsing\n",
    "import json\n",
    "\n",
    "# HTML parsing\n",
    "from lxml import etree\n",
    "import urllib\n",
    "\n",
    "# DuckDB RDBMS\n",
    "import duckdb\n",
    "\n",
    "# Time conversions\n",
    "import time"
   ]
  },
  {
   "cell_type": "code",
   "execution_count": null,
   "metadata": {
    "colab": {
     "base_uri": "https://localhost:8080/",
     "height": 1000
    },
    "id": "Wygsp1wyBJxr",
    "outputId": "07f247fd-79f5-421e-9416-9d61f70be6f6"
   },
   "outputs": [],
   "source": [
    "%%time\n",
    "# 50,000 records from linkedin\n",
    "linked_in = open('linkedin_anon.jsonl')\n",
    "\n",
    "people = []\n",
    "\n",
    "for line in linked_in:\n",
    "    person = json.loads(line)\n",
    "    people.append(person)\n",
    "\n",
    "people_df = pd.DataFrame(people)\n",
    "people_df[people_df['industry'] == 'Medical Devices']"
   ]
  },
  {
   "cell_type": "code",
   "execution_count": null,
   "metadata": {
    "colab": {
     "base_uri": "https://localhost:8080/",
     "height": 1000
    },
    "id": "_eDL3xNtBJxs",
    "outputId": "e7710154-1d57-4bf5-b9f3-55adc9494c17"
   },
   "outputs": [],
   "source": [
    "%%time\n",
    "# 500,000 records from linkedin\n",
    "linked_in = open('linkedin_anon.jsonl')\n",
    "\n",
    "people = []\n",
    "\n",
    "for line in linked_in:\n",
    "    person = json.loads(line)\n",
    "    if 'industry' in person and person['industry'] == 'Medical Devices':\n",
    "        people.append(person)\n",
    "\n",
    "people_df = pd.DataFrame(people)\n",
    "people_df"
   ]
  },
  {
   "cell_type": "markdown",
   "metadata": {
    "id": "Cl_KntTIBJxt"
   },
   "source": [
    "## SQL query without an index\n",
    "\n",
    "SQL databases will automatically \"push down\" selection and projection where feasible.  They also don't need to parse.\n",
    "\n",
    "Let's load people_df into tables as per our prior notebook."
   ]
  },
  {
   "cell_type": "code",
   "execution_count": null,
   "metadata": {
    "id": "4pTCCGh8SluZ"
   },
   "outputs": [],
   "source": [
    "'''\n",
    "Simple code to pull out data from JSON and load into DuckDB.\n",
    "'''\n",
    "import ast\n",
    "\n",
    "linked_in = open('linkedin_anon.jsonl')\n",
    "\n",
    "START = 0\n",
    "LIMIT = 50000\n",
    "\n",
    "def get_df(rel):\n",
    "    ret = pd.DataFrame(rel)\n",
    "    return ret\n",
    "\n",
    "lines = []\n",
    "i = 1\n",
    "for line in linked_in:\n",
    "    if i > START + LIMIT:\n",
    "        break\n",
    "    elif i >= START:\n",
    "        person = json.loads(line)\n",
    "\n",
    "        lines.append(person)\n",
    "    i = i + 1\n",
    "\n",
    "people_df = get_df(pd.DataFrame(lines))\n",
    "\n"
   ]
  },
  {
   "cell_type": "code",
   "execution_count": null,
   "metadata": {
    "colab": {
     "base_uri": "https://localhost:8080/",
     "height": 1000
    },
    "id": "GGJem6gxTW5I",
    "outputId": "c8259cf4-d51a-4734-d9b8-47890f85e7c3"
   },
   "outputs": [],
   "source": [
    "people_df"
   ]
  },
  {
   "cell_type": "code",
   "execution_count": null,
   "metadata": {
    "id": "LCJbwD1XSUMK"
   },
   "outputs": [],
   "source": [
    "def get_nested_dict(rel, name):\n",
    "  # This evaluates the string that describes the dictionary, as a dictionary\n",
    "  # definition\n",
    "  ret = rel.copy()\n",
    "  # ret[name] = rel[name].map(lambda x: ast.literal_eval(x) if len(x) else np.NaN)\n",
    "  ret = ret.dropna()\n",
    "  # This joins rows on the index\n",
    "  return ret.drop(columns=name).join(pd.DataFrame(ret[name].tolist()))\n",
    "\n",
    "def get_nested_list(rel, name):\n",
    "  ret = rel.copy()\n",
    "  ret = ret.dropna().explode(name).dropna()\n",
    "  ret = ret.join(pd.DataFrame(ret[name].tolist())).drop(columns=name).drop_duplicates()\n",
    "  return ret.rename(columns={0: name})\n",
    "\n",
    "def get_nested_list_dict(rel, name):\n",
    "  ret = rel.copy()\n",
    "\n",
    "  ret = ret.dropna().explode(name)\n",
    "\n",
    "  exploded_pairs = pd.DataFrame(ret.apply(lambda x: {'_id': x['_id']} | x[name] if isinstance(x[name], dict) else {'_id': x['_id']}, axis=1).tolist())\n",
    "\n",
    "  return ret.merge(exploded_pairs, on='_id').drop(columns=name)\n",
    "  #pd.DataFrame(ret[name].tolist())).drop(columns=name).drop_duplicates()\n",
    "\n",
    "# Take the lists, drop any blank strings\n",
    "specialties_df = people_df[['_id','specilities']].explode('specilities').rename(columns={'_id': 'person'})\n",
    "specialties_df.dropna(inplace=True)\n",
    "interests_df = people_df[['_id','interests']].explode('interests').rename(columns={'_id': 'person'})\n",
    "interests_df.dropna(inplace=True)\n",
    "\n",
    "names_df = get_nested_dict(people_df[['_id','name']], 'name')\n",
    "\n",
    "education_df = get_nested_list_dict(people_df[['_id','education']], 'education')\n",
    "experience_df = get_nested_list_dict(people_df[['_id','experience']], 'experience')\n",
    "skills_df = get_nested_list(people_df[['_id','skills']], 'skills')\n",
    "honors_df = get_nested_list(people_df[['_id','honors']], 'honors')\n",
    "events_df = get_nested_list_dict(people_df[['_id','events']], 'events')\n",
    "\n",
    "groups_df = get_nested_dict(people_df[['_id','group']], 'group')\n",
    "\n",
    "people_only_df = people_df.drop(columns=['name','education','group','skills','experience','honors','events','specilities','interests'])"
   ]
  },
  {
   "cell_type": "code",
   "execution_count": null,
   "metadata": {
    "colab": {
     "base_uri": "https://localhost:8080/",
     "height": 157,
     "referenced_widgets": [
      "b74c5f924ce047d193d4fa8ff69a1b56",
      "b68da058feec4854975348a0d70dd363",
      "b649b8367d6147498edfbfeedbc5f13c",
      "62be3529f8264b4ea767807365c4e77a",
      "a4ac61970eca4bf8ba84bdc75ce29116",
      "943ec8dbbf0b440f8ae4feb8a069f663",
      "f3af1c654d6f44f698fddd9385b099a6",
      "6ee75d2c55064aa89d651246d0220f00",
      "086889d0bdff48ad87c5b6235a1126ad",
      "81d0630d3df943e8b95333d649e161f9",
      "77d49e23138e4035b997ce0fb433f81e",
      "adc256d340af41798fbfec4d715a6078"
     ]
    },
    "id": "E2wxLzk_BJxt",
    "outputId": "ebbffc25-1d2c-461b-a1d9-000450a40594"
   },
   "outputs": [],
   "source": [
    "## This is just to reset things so we don't have an index\n",
    "#conn = duckdb.connect('linkedin.db')\n",
    "#conn.execute('BEGIN TRANSACTION')\n",
    "#conn.execute('DROP TABLE IF EXISTS people')\n",
    "# conn.execute('DROP INDEX IF EXISTS people_industry')\n",
    "# conn.execute('CREATE TABLE people AS SELECT * FROM people_df')\n",
    "# conn.execute('CREATE TABLE education AS SELECT * FROM education_df')\n",
    "# conn.execute('CREATE TABLE experience AS SELECT * FROM experience_df')\n",
    "# conn.execute('CREATE TABLE skills AS SELECT * FROM skills_df')\n",
    "# conn.execute('CREATE TABLE honors AS SELECT * FROM honors_df')\n",
    "# conn.execute('CREATE TABLE events AS SELECT * FROM events_df')\n",
    "# conn.execute('CREATE TABLE groups AS SELECT * FROM groups_df')\n",
    "# conn.execute('CREATE TABLE specialties AS SELECT * FROM specialties_df')\n",
    "# conn.execute('CREATE TABLE interests AS SELECT * FROM interests_df')\n",
    "# conn.execute('COMMIT')\n",
    "\n",
    "conn.execute('DROP INDEX IF EXISTS people_industry')\n",
    "conn.execute('CREATE OR REPLACE TABLE people AS SELECT * FROM people_df')\n",
    "conn.execute('CREATE OR REPLACE TABLE education AS SELECT * FROM education_df')\n",
    "conn.execute('CREATE OR REPLACE TABLE experience AS SELECT * FROM experience_df')\n",
    "conn.execute('CREATE OR REPLACE TABLE skills AS SELECT * FROM skills_df')\n",
    "conn.execute('CREATE OR REPLACE TABLE honors AS SELECT * FROM honors_df')\n",
    "conn.execute('CREATE OR REPLACE TABLE events AS SELECT * FROM events_df')\n",
    "conn.execute('CREATE OR REPLACE TABLE groups AS SELECT * FROM groups_df')\n",
    "conn.execute('CREATE OR REPLACE TABLE specialties AS SELECT * FROM specialties_df')\n",
    "conn.execute('CREATE OR REPLACE TABLE interests AS SELECT * FROM interests_df')\n",
    "conn.execute('COMMIT')"
   ]
  },
  {
   "cell_type": "code",
   "execution_count": null,
   "metadata": {
    "colab": {
     "base_uri": "https://localhost:8080/"
    },
    "id": "PG1zu17DBJxv",
    "outputId": "ce62ae21-3cbc-4361-e42e-85e4ae0ec47b"
   },
   "outputs": [],
   "source": [
    "%%time\n",
    "\n",
    "conn.sql(\"\"\"\n",
    "  SELECT *\n",
    "  FROM people JOIN experience ON people._id = experience._id\n",
    "  WHERE industry='Medical Devices'\"\"\")"
   ]
  },
  {
   "cell_type": "markdown",
   "metadata": {
    "id": "2VMjQn9fBJxw"
   },
   "source": [
    "## Let's build an index now...\n",
    "\n",
    "Our data is very small, so the index probably won't speed anything up at this scale. But it can be created and the database will use it *transparently*!\n"
   ]
  },
  {
   "cell_type": "code",
   "execution_count": null,
   "metadata": {
    "colab": {
     "base_uri": "https://localhost:8080/"
    },
    "id": "lZn3LlQHBJxx",
    "outputId": "470d46f5-1139-4632-9c86-345c4f52f9b1"
   },
   "outputs": [],
   "source": [
    "conn.execute('BEGIN TRANSACTION')\n",
    "conn.execute('DROP INDEX IF EXISTS people_industry')\n",
    "conn.execute(\"CREATE INDEX people_industry ON people(industry)\")\n",
    "conn.execute('COMMIT')"
   ]
  },
  {
   "cell_type": "code",
   "execution_count": null,
   "metadata": {
    "colab": {
     "base_uri": "https://localhost:8080/"
    },
    "id": "dbZn2ZKABJxy",
    "outputId": "e5c9cc9e-c269-4cd6-a681-f145cdcc3a44"
   },
   "outputs": [],
   "source": [
    "%%time\n",
    "# Treat the view as a table, see what's there\n",
    "conn.sql(\"\"\"\n",
    " CREATE VIEW people_medicine AS\n",
    "  SELECT *\n",
    "  FROM people JOIN experience ON people._id = experience._id\n",
    "  WHERE industry='Medical Devices'\"\"\")\n",
    "\n",
    "conn.sql(\"\"\"\n",
    "  SELECT *\n",
    "  FROM people_medicine\"\"\")\n",
    "\n",
    "# In our tests, this was 5x faster!"
   ]
  },
  {
   "cell_type": "code",
   "execution_count": null,
   "metadata": {
    "colab": {
     "base_uri": "https://localhost:8080/"
    },
    "id": "kV6z8n82T64t",
    "outputId": "fe926d2a-60c9-40bb-a505-c808b893a33d"
   },
   "outputs": [],
   "source": [
    "%%time\n",
    "\n",
    "conn.sql(\"\"\"\n",
    "  SELECT name.given_name, name.family_name\n",
    "  FROM people\n",
    "  WHERE name.given_name='Jeeves'\"\"\")"
   ]
  },
  {
   "cell_type": "code",
   "execution_count": null,
   "metadata": {
    "colab": {
     "base_uri": "https://localhost:8080/"
    },
    "id": "11EtG9P6BJx0",
    "outputId": "376b06bb-4fd8-477a-eaf9-957885aa6f58"
   },
   "outputs": [],
   "source": [
    "people_df2 = conn.sql('select * from people limit 500').df()\n",
    "experience_df2 = conn.sql('select * from experience limit 5000').df()\n",
    "skills_df2 = conn.sql('select * from skills limit 8000').df()\n",
    "\n",
    "print (\"%d people\"%len(people_df2))\n",
    "print (\"%d experiences\"%len(experience_df2))\n",
    "print (\"%d skills\"%len(skills_df2))"
   ]
  },
  {
   "cell_type": "code",
   "execution_count": null,
   "metadata": {
    "id": "IquppboSBJx2"
   },
   "outputs": [],
   "source": [
    "def merge(S,T,l_on,r_on):\n",
    "    ret = []\n",
    "    count = 0\n",
    "    s_pos = S.columns.get_loc(l_on)\n",
    "    t_pos = T.columns.get_loc(r_on)\n",
    "    for s_index in range(0, len(S)):\n",
    "        for t_index in range(0, len(T)):\n",
    "            count = count + 1\n",
    "            if S.iat[s_index, s_pos] == T.iat[t_index, t_pos]:\n",
    "              ret.append(S.iloc[s_index].to_dict() | T.iloc[t_index].to_dict())\n",
    "\n",
    "    print('Merge compared %d tuples'%count)\n",
    "    return pd.DataFrame(ret)"
   ]
  },
  {
   "cell_type": "code",
   "execution_count": null,
   "metadata": {
    "colab": {
     "base_uri": "https://localhost:8080/",
     "height": 1000
    },
    "id": "jb7rckPbBJx3",
    "outputId": "033eceb4-a5c6-4841-b660-6f002d0b2a0c"
   },
   "outputs": [],
   "source": [
    "%%time\n",
    "# Here's a test join, with people and their experiences.  We can see how many\n",
    "# comparisons are made\n",
    "\n",
    "merge(people_df2, experience_df2, '_id', '_id')"
   ]
  },
  {
   "cell_type": "code",
   "execution_count": null,
   "metadata": {
    "colab": {
     "base_uri": "https://localhost:8080/",
     "height": 143
    },
    "id": "U9kKmlIcBJx4",
    "outputId": "6dad071c-b7d8-4d8c-d7f1-b14a9f837c5e"
   },
   "outputs": [],
   "source": [
    "# Let's find all people (by ID) who have Marketing as a skill\n",
    "\n",
    "mbio_df = skills_df2[skills_df2['skills'] == 'Molecular Biology'].reset_index()[['_id']]\n",
    "mbio_df"
   ]
  },
  {
   "cell_type": "code",
   "execution_count": null,
   "metadata": {
    "colab": {
     "base_uri": "https://localhost:8080/",
     "height": 1000
    },
    "id": "B5TFuDW3BJx7",
    "outputId": "06751b64-4d3f-40fa-e99c-caaaaa3c9826"
   },
   "outputs": [],
   "source": [
    "%%time\n",
    "merge(merge(people_df2, experience_df2, '_id', '_id'), mbio_df, '_id', '_id')"
   ]
  },
  {
   "cell_type": "code",
   "execution_count": null,
   "metadata": {
    "colab": {
     "base_uri": "https://localhost:8080/",
     "height": 1000
    },
    "id": "2NsBlaGPBJx8",
    "outputId": "81a7999b-6855-47e3-bf66-f144f4d38b86"
   },
   "outputs": [],
   "source": [
    "%%time\n",
    "merge(merge(people_df2, mbio_df, '_id', '_id'), experience_df2, '_id', '_id')"
   ]
  },
  {
   "cell_type": "code",
   "execution_count": null,
   "metadata": {
    "colab": {
     "base_uri": "https://localhost:8080/"
    },
    "id": "tcVvt7GLBJx_",
    "outputId": "006ec244-d11d-43d0-fd5e-6176d3415683"
   },
   "outputs": [],
   "source": [
    "%%time\n",
    "\n",
    "conn.sql(\"\"\"select distinct s._id,s.skills from people p join skills s on p._id=s._id join\n",
    "                  experience ex on s._id=ex._id and s.skills='Molecular Biology'\"\"\")"
   ]
  },
  {
   "cell_type": "code",
   "execution_count": null,
   "metadata": {
    "colab": {
     "base_uri": "https://localhost:8080/"
    },
    "id": "VlrvqEatDHG9",
    "outputId": "b9a5d904-9c63-41aa-d7f9-6ad8726a75bc"
   },
   "outputs": [],
   "source": [
    "%%time\n",
    "\n",
    "conn.sql(\"\"\"select distinct s._id,s.skills from skills s join\n",
    "                  experience ex on s._id=ex._id join people p on p._id=s._id where s.skills='Molecular Biology'\"\"\")"
   ]
  },
  {
   "cell_type": "code",
   "execution_count": null,
   "metadata": {
    "colab": {
     "base_uri": "https://localhost:8080/"
    },
    "id": "qOclu3AfCtQR",
    "outputId": "db646779-70fd-4c96-d334-b9d6ea1c7e42"
   },
   "outputs": [],
   "source": [
    "conn.sql(\"select count(distinct _id) from skills where skills='Molecular Biology'\")"
   ]
  },
  {
   "cell_type": "code",
   "execution_count": null,
   "metadata": {
    "id": "AudktkCTBJyA"
   },
   "outputs": [],
   "source": [
    "# Join using a *hash map*\n",
    "# from keys to (single) values\n",
    "def merge_map(S,T,l_on,r_on):\n",
    "    ret = []\n",
    "    T_map = {}\n",
    "    count = 0\n",
    "    # Take each value in the r_on field, and\n",
    "    # make a map entry for it\n",
    "    t_pos = T.columns.get_loc(r_on)\n",
    "    for t_index in range(0, len(T)):\n",
    "        # Make sure we aren't overwriting an entry!\n",
    "        if (T.iat[t_index,t_pos] not in T_map):\n",
    "          T_map[T.iat[t_index,t_pos]] = [T.loc[t_index]]\n",
    "        else:\n",
    "          T_map[T.iat[t_index,t_pos]].append(T.loc[t_index])\n",
    "        count = count + 1\n",
    "\n",
    "    # Now find matches\n",
    "    S2 = S.reset_index().drop(columns=['index'])\n",
    "    for s_index in range(0, len(S2)):\n",
    "        count = count + 1\n",
    "        if S2.loc[s_index, l_on] in T_map:\n",
    "          for item in T_map[S2.loc[s_index, l_on]]:\n",
    "            ret.append(S2.loc[s_index].to_dict() | item.drop(labels=r_on).to_dict())\n",
    "\n",
    "    print('Merge compared %d tuples'%count)\n",
    "    return pd.DataFrame(ret)"
   ]
  },
  {
   "cell_type": "code",
   "execution_count": null,
   "metadata": {
    "colab": {
     "base_uri": "https://localhost:8080/",
     "height": 1000
    },
    "id": "zPpJWiUkBJyB",
    "outputId": "cb3e9bf0-6d33-4fe5-fb97-6498675d03dc"
   },
   "outputs": [],
   "source": [
    "%%time\n",
    "\n",
    "# Here's a test join, with people and their experiences.  We can see how many\n",
    "# comparisons are made\n",
    "merge_map(experience_df2, people_df2, '_id', '_id')"
   ]
  },
  {
   "cell_type": "markdown",
   "metadata": {
    "id": "xV60GWdffxmf"
   },
   "source": [
    "## Exercise"
   ]
  },
  {
   "cell_type": "code",
   "execution_count": null,
   "metadata": {
    "colab": {
     "base_uri": "https://localhost:8080/"
    },
    "id": "JXIfKikIf5DV",
    "outputId": "184e0081-6507-4ff6-b79a-e7caa11cdfb1"
   },
   "outputs": [],
   "source": [
    "%%writefile notebook-config.yaml\n",
    "\n",
    "grader_api_url: 'https://23whrwph9h.execute-api.us-east-1.amazonaws.com/default/Grader23'\n",
    "grader_api_key: 'flfkE736fA6Z8GxMDJe2q8Kfk8UDqjsG3GVqOFOa'"
   ]
  },
  {
   "cell_type": "code",
   "execution_count": null,
   "metadata": {
    "colab": {
     "base_uri": "https://localhost:8080/"
    },
    "id": "bB_k4Mhhf63P",
    "outputId": "58937586-2d07-422b-b5e7-66fe16eecd61"
   },
   "outputs": [],
   "source": [
    "!pip3 install penngrader-client"
   ]
  },
  {
   "cell_type": "code",
   "execution_count": null,
   "metadata": {
    "id": "GNrmFa8Nf8lX"
   },
   "outputs": [],
   "source": [
    "#PLEASE ENSURE YOUR PENN-ID IS ENTERED CORRECTLY. IF NOT, THE AUTOGRADER WON'T KNOW WHO\n",
    "#TO ASSIGN POINTS TO YOU IN OUR BACKEND\n",
    "STUDENT_ID = 64660501 # YOUR PENN-ID GOES HERE AS AN INTEGER##PLEASE ENSURE YOUR PENN-ID IS ENTERED CORRECTLY. IF NOT, THE AUTOGRADER WON'T KNOW WHO"
   ]
  },
  {
   "cell_type": "code",
   "execution_count": null,
   "metadata": {
    "colab": {
     "base_uri": "https://localhost:8080/"
    },
    "id": "tqCE2bPwf_4y",
    "outputId": "6a8e0071-fc0e-41e4-e9b0-fde774543603"
   },
   "outputs": [],
   "source": [
    "%set_env HW_ID=cis5450_25f_HW9"
   ]
  },
  {
   "cell_type": "code",
   "execution_count": null,
   "metadata": {
    "colab": {
     "base_uri": "https://localhost:8080/"
    },
    "id": "C83mtjk7gBkL",
    "outputId": "70fcf111-d289-4691-e732-b9c85f5706de"
   },
   "outputs": [],
   "source": [
    "import os\n",
    "from penngrader.grader import *\n",
    "\n",
    "grader = PennGrader('notebook-config.yaml', os.environ['HW_ID'], STUDENT_ID, STUDENT_ID)"
   ]
  },
  {
   "cell_type": "markdown",
   "metadata": {
    "id": "g_bFRnnkfKW8"
   },
   "source": [
    "Take the following query and use the `merge` or `merge_map` functions to execute it.  You can use Pandas to pre-apply or post-apply any filter conditions (selections) on dataframes.\n",
    "\n",
    "```\n",
    "SELECT _id, industry, skills\n",
    "FROM people_df2 p JOIN skills_df2 s ON p._id = s._id\n",
    "WHERE industry = 'Pharmaceuticals'\n",
    "```"
   ]
  },
  {
   "cell_type": "code",
   "execution_count": null,
   "metadata": {
    "colab": {
     "base_uri": "https://localhost:8080/",
     "height": 363
    },
    "id": "Jxr020UZBJyH",
    "outputId": "8437edf2-9678-44b2-a38d-7692f0416731"
   },
   "outputs": [],
   "source": [
    "# TODO: compute results_df as per the above\n",
    "filtered_ppl_df2 = people_df2[people_df2['industry'] == 'Pharmaceuticals']\n",
    "\n",
    "results_df = filtered_ppl_df2.merge(skills_df2, on='_id')[['_id', 'industry', 'skills_y']]\n",
    "results_df = results_df.rename(columns={'skills_y': 'skills'})\n",
    "\n",
    "results_df"
   ]
  },
  {
   "cell_type": "code",
   "execution_count": null,
   "metadata": {
    "colab": {
     "base_uri": "https://localhost:8080/"
    },
    "id": "71ke0HOxgID6",
    "outputId": "c106a677-6d31-4a61-a2c2-4a7ffa02fa57"
   },
   "outputs": [],
   "source": [
    "grader.grade('pharma', results_df)"
   ]
  },
  {
   "cell_type": "code",
   "execution_count": null,
   "metadata": {
    "id": "k9qH5JT-g3Gp"
   },
   "outputs": [],
   "source": []
  }
 ],
 "metadata": {
  "colab": {
   "include_colab_link": true,
   "provenance": [],
   "toc_visible": true
  },
  "kernelspec": {
   "display_name": "Python 3",
   "language": "python",
   "name": "python3"
  },
  "language_info": {
   "codemirror_mode": {
    "name": "ipython",
    "version": 3
   },
   "file_extension": ".py",
   "mimetype": "text/x-python",
   "name": "python",
   "nbconvert_exporter": "python",
   "pygments_lexer": "ipython3",
   "version": "3.6.8"
  }
 },
 "nbformat": 4,
 "nbformat_minor": 0
}
