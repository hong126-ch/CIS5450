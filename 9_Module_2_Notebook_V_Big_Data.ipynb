{
  "nbformat": 4,
  "nbformat_minor": 0,
  "metadata": {
    "colab": {
      "provenance": [],
      "toc_visible": true,
      "include_colab_link": true
    },
    "kernelspec": {
      "name": "python3",
      "display_name": "Python 3"
    }
  },
  "cells": [
    {
      "cell_type": "markdown",
      "metadata": {
        "id": "view-in-github",
        "colab_type": "text"
      },
      "source": [
        "<a href=\"https://colab.research.google.com/github/hong126-ch/CIS5450/blob/main/9_Module_2_Notebook_V_Big_Data.ipynb\" target=\"_parent\"><img src=\"https://colab.research.google.com/assets/colab-badge.svg\" alt=\"Open In Colab\"/></a>"
      ]
    },
    {
      "cell_type": "markdown",
      "metadata": {
        "id": "cy6hpgnJY-Rp"
      },
      "source": [
        "# Big Data and Graph Data\n",
        "\n",
        "In this module, we'll take what we learned about indices and generalize!\n",
        "\n",
        "Apache Spark is a big data engine that runs on compute clusters, including on the cloud.  This notebook is set up assuming that (1) Spark is running on an AWS server that is public [this may **not** be true at the time you look at this!].\n",
        "\n",
        "You may need to look at this notebook without directly running it, until we give you specific instructions on launching your own Spark cluster.\n"
      ]
    },
    {
      "cell_type": "markdown",
      "source": [
        "# Setup"
      ],
      "metadata": {
        "id": "R5uxG6qfFwMI"
      }
    },
    {
      "cell_type": "code",
      "source": [
        "# TODO: fill this one in based on the host posted on Ed\n",
        "%set_env EMR_HOST = ec2-52-23-243-142.compute-1.amazonaws.com\n",
        "%set_env HW_ID=cis5450_25f_HW9"
      ],
      "metadata": {
        "id": "Y3x2xSfZdBCq",
        "colab": {
          "base_uri": "https://localhost:8080/"
        },
        "outputId": "f85287b5-eac1-48ef-8b5f-f767eb8afd13"
      },
      "execution_count": 2,
      "outputs": [
        {
          "output_type": "stream",
          "name": "stdout",
          "text": [
            "env: EMR_HOST=ec2-52-23-243-142.compute-1.amazonaws.com\n",
            "env: HW_ID=cis5450_25f_HW9\n"
          ]
        }
      ]
    },
    {
      "cell_type": "code",
      "source": [
        "from pyspark.sql import SparkSession\n",
        "import os\n",
        "\n",
        "# Start Spark Session by Specifying the Spark Cluster Address.\n",
        "spark = SparkSession.builder \\\n",
        "  .appName(\"CIS-5450\") \\\n",
        "  .remote(\"sc://{host}\".format(host=os.getenv('EMR_HOST'))).getOrCreate()"
      ],
      "metadata": {
        "id": "JYz17hrdkoux"
      },
      "execution_count": 3,
      "outputs": []
    },
    {
      "cell_type": "code",
      "source": [
        "!python --version"
      ],
      "metadata": {
        "id": "IXntNXYowJ0C",
        "colab": {
          "base_uri": "https://localhost:8080/"
        },
        "outputId": "8ad7317f-da74-4137-b5cf-0ef6c3fc3f9e"
      },
      "execution_count": 4,
      "outputs": [
        {
          "output_type": "stream",
          "name": "stdout",
          "text": [
            "Python 3.12.11\n"
          ]
        }
      ]
    },
    {
      "cell_type": "markdown",
      "metadata": {
        "id": "stbF4ttIQBUG"
      },
      "source": [
        "The following line connects to Spark running remotely (note you'll need to start an Amazon AWS Elastic MapReduce instance)\n",
        ".  You will likely need to change the URL after the `-u` to connect to an active server."
      ]
    },
    {
      "cell_type": "markdown",
      "source": [
        "## Autograder setup"
      ],
      "metadata": {
        "id": "E7pUp7HAwQp6"
      }
    },
    {
      "cell_type": "code",
      "source": [
        "#PLEASE ENSURE YOUR PENN-ID IS ENTERED CORRECTLY. IF NOT, THE AUTOGRADER WON'T KNOW WHO\n",
        "#TO ASSIGN POINTS TO YOU IN OUR BACKEND\n",
        "STUDENT_ID = 64660501 # YOUR PENN-ID GOES HERE AS AN INTEGER##PLEASE ENSURE YOUR PENN-ID IS ENTERED CORRECTLY. IF NOT, THE AUTOGRADER WON'T KNOW WHO"
      ],
      "metadata": {
        "id": "WGM-vv4owbBQ"
      },
      "execution_count": 6,
      "outputs": []
    },
    {
      "cell_type": "code",
      "source": [
        "%%writefile notebook-config.yaml\n",
        "\n",
        "grader_api_url: 'https://23whrwph9h.execute-api.us-east-1.amazonaws.com/default/Grader23'\n",
        "grader_api_key: 'flfkE736fA6Z8GxMDJe2q8Kfk8UDqjsG3GVqOFOa'"
      ],
      "metadata": {
        "id": "OxKJ5J_awSOn",
        "colab": {
          "base_uri": "https://localhost:8080/"
        },
        "outputId": "fb4db561-1a26-41bd-cdbf-1cdedff935f6"
      },
      "execution_count": 7,
      "outputs": [
        {
          "output_type": "stream",
          "name": "stdout",
          "text": [
            "Writing notebook-config.yaml\n"
          ]
        }
      ]
    },
    {
      "cell_type": "code",
      "source": [
        "!pip3 install penngrader-client"
      ],
      "metadata": {
        "id": "S3n0LqhuwW2i",
        "colab": {
          "base_uri": "https://localhost:8080/"
        },
        "outputId": "607d07b5-04c2-4d44-baba-5a3f25aad2de"
      },
      "execution_count": 8,
      "outputs": [
        {
          "output_type": "stream",
          "name": "stdout",
          "text": [
            "Collecting penngrader-client\n",
            "  Downloading penngrader_client-0.5.2-py3-none-any.whl.metadata (15 kB)\n",
            "Requirement already satisfied: dill in /usr/local/lib/python3.12/dist-packages (from penngrader-client) (0.3.8)\n",
            "Requirement already satisfied: pyyaml in /usr/local/lib/python3.12/dist-packages (from penngrader-client) (6.0.3)\n",
            "Downloading penngrader_client-0.5.2-py3-none-any.whl (10 kB)\n",
            "Installing collected packages: penngrader-client\n",
            "Successfully installed penngrader-client-0.5.2\n"
          ]
        }
      ]
    },
    {
      "cell_type": "code",
      "source": [
        "import os\n",
        "from penngrader.grader import *\n",
        "\n",
        "grader = PennGrader('notebook-config.yaml', os.environ['HW_ID'], STUDENT_ID, STUDENT_ID)"
      ],
      "metadata": {
        "id": "dEHXUnRqwcP7",
        "colab": {
          "base_uri": "https://localhost:8080/"
        },
        "outputId": "ab9300b8-7153-41ae-981f-0edf5dae4008"
      },
      "execution_count": 9,
      "outputs": [
        {
          "output_type": "stream",
          "name": "stdout",
          "text": [
            "PennGrader initialized with Student ID: 64660501\n",
            "\n",
            "Make sure this correct or we will not be able to store your grade\n"
          ]
        }
      ]
    },
    {
      "cell_type": "markdown",
      "metadata": {
        "id": "6u6rwG-wQIX2"
      },
      "source": [
        "## Example of Loading Sharded Data"
      ]
    },
    {
      "cell_type": "markdown",
      "metadata": {
        "id": "8O02TOXqQLgt"
      },
      "source": [
        "First let's do our preliminaries.  **Every** cell in this notebook will need `%%spark` at the start so it runs on the remote machine with Spark on it, instead of on the machine with Jupyter."
      ]
    },
    {
      "cell_type": "markdown",
      "metadata": {
        "id": "El-Or-F-Qc5C"
      },
      "source": [
        "## Load into Spark\n",
        "\n",
        "Spark needs to know the structure of the data in its dataframes, i.e., their schemas.  Over the years it has gotten better at inferring schemas, but sometimes you'll want to set the schema yourself.\n",
        "\n",
        "There are some basic types:\n",
        "  * The table is a `StructType` with a list of fields (each row)\n",
        "  * Most fields, in our case, are `StringType`.\n",
        "  * We also have nested dictionary for the name, which is a `MapType` from `StringType` keys to `StringType` values.\n",
        "  * `skills` is an `ArrayType` since it's a list, and it contains `StringType`s.\n",
        "  * `also_view` is an array of structs.\n",
        "\n",
        "See Pyspark documentation on `StructType` and examples such as https://www.programcreek.com/python/example/104715/pyspark.sql.types.StructType.\n",
        "\n",
        "See below for a partial sketch:"
      ]
    },
    {
      "cell_type": "code",
      "metadata": {
        "id": "DN3NJaRuP8Tl"
      },
      "source": [
        "# Spark uses schemas to define the format for DataFrames. By default it will\n",
        "# try to infer, which has varying luck. Here is an example of part of a schema\n",
        "# for LinkedIn.\n",
        "from pyspark.sql.types import StringType, StructField, StructType, ArrayType, MapType\n",
        "schema = StructType([\n",
        "        StructField(\"_id\", StringType(), True),\n",
        "        StructField(\"name\", MapType(StringType(), StringType()), True),\n",
        "        StructField(\"locality\", StringType(), True),\n",
        "        StructField(\"skills\", ArrayType(StringType()), True),\n",
        "        StructField(\"industry\", StringType(), True),\n",
        "        StructField(\"summary\", StringType(), True),\n",
        "        StructField(\"url\", StringType(), True),\n",
        "        StructField(\"also_view\", ArrayType(\\\n",
        "                    StructType([\\\n",
        "                      StructField(\"url\", StringType(), True),\\\n",
        "                      StructField(\"id\", StringType(), True)])\\\n",
        "                    ), True)\\\n",
        "         ])"
      ],
      "execution_count": 10,
      "outputs": []
    },
    {
      "cell_type": "markdown",
      "source": [
        "Let's now load a remote file.  To do this, we add the URL to the sparkContext, and then (in the next Cell) we will use `spark.read.json` to open and load the file."
      ],
      "metadata": {
        "id": "6nB1yjKEpvOC"
      }
    },
    {
      "cell_type": "code",
      "metadata": {
        "id": "cmF8gC6nP3VW",
        "colab": {
          "base_uri": "https://localhost:8080/"
        },
        "outputId": "9b0af128-6261-4f3e-9cde-5f2f088bcd72"
      },
      "source": [
        "# Read JSON Lines file\n",
        "linked_df = spark.read\\\n",
        "  .json(\"s3://penn-cis545-files/linkedin_anon.jsonl\")\\\n",
        "  .repartition('_id')\n",
        "\n",
        "linked_df.show(5)"
      ],
      "execution_count": 11,
      "outputs": [
        {
          "output_type": "stream",
          "name": "stdout",
          "text": [
            "+-------------------+--------------------+--------------------+--------------------+--------------------+--------------------+--------------------+--------------------+--------+--------------------+--------------------+--------------------+--------------------+--------------------+--------------------+\n",
            "|                _id|           education|              events|          experience|               group|              honors|            industry|           interests|interval|            locality|                name|              skills|         specilities|             summary|                 url|\n",
            "+-------------------+--------------------+--------------------+--------------------+--------------------+--------------------+--------------------+--------------------+--------+--------------------+--------------------+--------------------+--------------------+--------------------+--------------------+\n",
            "|exhaustive-diatonic|[{NULL, , 1990, N...|[{23873, taller t...|[{Empresa dedicad...|{[ATEB - ASOCIACI...|[2004-2006, Vicep...|        Construcción|                NULL|    28.0|Barcelona y alred...|   {Douglas, Alfred}|[AutoCAD, MS Proj...|                NULL|Gerente de Cister...|https://www.linke...|\n",
            "|  primordial-flight|[{Bachelor of Art...|                  []|[{I am still acti...|{[Realty Services...|[Chicago Apartmen...|        Online Media|business, investm...|     0.0|San Leandro, Cali...|  {Russell, Barkley}|[Negotiation, Res...|contract negotiat...|Sales, Management...|https://www.linke...|\n",
            "|    absolute-bazaar|                NULL|                  []|[{In charge of Pr...|                NULL|                NULL|   Computer Software|                NULL|     0.0|Vancouver, Canada...| {Ogilvy, Leporello}|[Executive Manage...|                NULL|                NULL|https://www.linke...|\n",
            "|      proud-trainer|[{Level 5 - Proce...|                  []|[{Decision Suport...|{[Antigos Alunos ...|                NULL|Tecnologia da inf...|                NULL|     0.0|Lisbon Area, Port...|  {Lennox, Merriman}|                NULL|                NULL|- Microsoft SQL S...|https://www.linke...|\n",
            "|          flat-beef|[{NULL, , 1995, N...|[{24018, Mediaedg...|[{NULL, Present, ...|                NULL|                NULL|Marketing and Adv...|                NULL|    45.0|New South Wales, ...|{Charteris, Barry...|[Media Planning, ...|                NULL|                NULL|https://www.linke...|\n",
            "+-------------------+--------------------+--------------------+--------------------+--------------------+--------------------+--------------------+--------------------+--------+--------------------+--------------------+--------------------+--------------------+--------------------+--------------------+\n",
            "only showing top 5 rows\n",
            "\n"
          ]
        }
      ]
    },
    {
      "cell_type": "markdown",
      "source": [
        "We can see the full, inferred schema here:"
      ],
      "metadata": {
        "id": "6v3omsR8p3oQ"
      }
    },
    {
      "cell_type": "code",
      "source": [
        "linked_df.printSchema()"
      ],
      "metadata": {
        "id": "f4VuSIujjUnp",
        "colab": {
          "base_uri": "https://localhost:8080/"
        },
        "outputId": "690e94b3-caf3-4a30-9b48-fe4c395c4d5c"
      },
      "execution_count": 12,
      "outputs": [
        {
          "output_type": "stream",
          "name": "stdout",
          "text": [
            "root\n",
            " |-- _id: string (nullable = true)\n",
            " |-- education: array (nullable = true)\n",
            " |    |-- element: struct (containsNull = true)\n",
            " |    |    |-- degree: string (nullable = true)\n",
            " |    |    |-- desc: string (nullable = true)\n",
            " |    |    |-- end: string (nullable = true)\n",
            " |    |    |-- major: string (nullable = true)\n",
            " |    |    |-- name: string (nullable = true)\n",
            " |    |    |-- start: string (nullable = true)\n",
            " |-- events: array (nullable = true)\n",
            " |    |-- element: struct (containsNull = true)\n",
            " |    |    |-- end: long (nullable = true)\n",
            " |    |    |-- from: string (nullable = true)\n",
            " |    |    |-- start: long (nullable = true)\n",
            " |    |    |-- title1: string (nullable = true)\n",
            " |    |    |-- title2: string (nullable = true)\n",
            " |    |    |-- to: string (nullable = true)\n",
            " |-- experience: array (nullable = true)\n",
            " |    |-- element: struct (containsNull = true)\n",
            " |    |    |-- desc: string (nullable = true)\n",
            " |    |    |-- end: string (nullable = true)\n",
            " |    |    |-- org: string (nullable = true)\n",
            " |    |    |-- start: string (nullable = true)\n",
            " |    |    |-- title: string (nullable = true)\n",
            " |-- group: struct (nullable = true)\n",
            " |    |-- affilition: array (nullable = true)\n",
            " |    |    |-- element: string (containsNull = true)\n",
            " |    |-- member: string (nullable = true)\n",
            " |-- honors: array (nullable = true)\n",
            " |    |-- element: string (containsNull = true)\n",
            " |-- industry: string (nullable = true)\n",
            " |-- interests: string (nullable = true)\n",
            " |-- interval: double (nullable = true)\n",
            " |-- locality: string (nullable = true)\n",
            " |-- name: struct (nullable = true)\n",
            " |    |-- family_name: string (nullable = true)\n",
            " |    |-- given_name: string (nullable = true)\n",
            " |-- skills: array (nullable = true)\n",
            " |    |-- element: string (containsNull = true)\n",
            " |-- specilities: string (nullable = true)\n",
            " |-- summary: string (nullable = true)\n",
            " |-- url: string (nullable = true)\n",
            "\n"
          ]
        }
      ]
    },
    {
      "cell_type": "markdown",
      "source": [
        "Let's try a simple select/project query!"
      ],
      "metadata": {
        "id": "6g74x035p-rz"
      }
    },
    {
      "cell_type": "code",
      "metadata": {
        "id": "DoUo_4LfOiki",
        "colab": {
          "base_uri": "https://localhost:8080/"
        },
        "outputId": "2e48fac4-909b-47a6-ebf4-7eb9d8bda70d"
      },
      "source": [
        "linked_df.filter(linked_df.locality == 'United States')[['_id', 'name', 'locality']].show(5)"
      ],
      "execution_count": 13,
      "outputs": [
        {
          "output_type": "stream",
          "name": "stdout",
          "text": [
            "+------------------+-------------------+-------------+\n",
            "|               _id|               name|     locality|\n",
            "+------------------+-------------------+-------------+\n",
            "|        claret-dog| {Glengarry, Poole}|United States|\n",
            "|     ternary-model|   {Graham, Figaro}|United States|\n",
            "|searing-brownstone| {Haldane, Brunton}|United States|\n",
            "|         ecru-fire|{Charteris, Alfred}|United States|\n",
            "|       quiet-glide|{Wallace, Merriman}|United States|\n",
            "+------------------+-------------------+-------------+\n",
            "only showing top 5 rows\n",
            "\n"
          ]
        }
      ]
    },
    {
      "cell_type": "markdown",
      "source": [
        "Also in SQL-like syntax:"
      ],
      "metadata": {
        "id": "Pl3Y2yQjqBCY"
      }
    },
    {
      "cell_type": "code",
      "metadata": {
        "id": "Oj1E3-AJ1G_y",
        "colab": {
          "base_uri": "https://localhost:8080/"
        },
        "outputId": "ccbe8860-d22a-4e9a-8f69-e36ef1eb9c4f"
      },
      "source": [
        "linked_df.select(\"_id\", 'name', \"locality\").show(5)"
      ],
      "execution_count": 14,
      "outputs": [
        {
          "output_type": "stream",
          "name": "stdout",
          "text": [
            "+-----------------+--------------------+--------------------+\n",
            "|              _id|                name|            locality|\n",
            "+-----------------+--------------------+--------------------+\n",
            "|    matching-form|{Sterling, Merriman}|               Malta|\n",
            "|     tender-river|  {Rollo, Bullimore}|Greater New York ...|\n",
            "|fermented-vehicle|{Livingstone, Cad...|Greater Chicago Area|\n",
            "|  overcast-vector|    {Ramsay, Figaro}|Brussels Area, Be...|\n",
            "|  mean-projectile|{Kennedy, Barrymore}|London, Greater L...|\n",
            "+-----------------+--------------------+--------------------+\n",
            "only showing top 5 rows\n",
            "\n"
          ]
        }
      ]
    },
    {
      "cell_type": "markdown",
      "source": [
        "And real SQL:"
      ],
      "metadata": {
        "id": "xhpz-wUSqGXO"
      }
    },
    {
      "cell_type": "code",
      "metadata": {
        "id": "eD9SE_v-1v0C",
        "colab": {
          "base_uri": "https://localhost:8080/"
        },
        "outputId": "4432fc65-515d-432f-c122-182b70d41698"
      },
      "source": [
        "linked_df.createOrReplaceTempView('linked_in')\n",
        "spark.sql('select * from linked_in').show(5)"
      ],
      "execution_count": 15,
      "outputs": [
        {
          "output_type": "stream",
          "name": "stdout",
          "text": [
            "+-------------------+--------------------+--------------------+--------------------+--------------------+--------------------+--------------------+--------------------+--------+--------------------+--------------------+--------------------+--------------------+--------------------+--------------------+\n",
            "|                _id|           education|              events|          experience|               group|              honors|            industry|           interests|interval|            locality|                name|              skills|         specilities|             summary|                 url|\n",
            "+-------------------+--------------------+--------------------+--------------------+--------------------+--------------------+--------------------+--------------------+--------+--------------------+--------------------+--------------------+--------------------+--------------------+--------------------+\n",
            "|exhaustive-diatonic|[{NULL, , 1990, N...|[{23873, taller t...|[{Empresa dedicad...|{[ATEB - ASOCIACI...|[2004-2006, Vicep...|        Construcción|                NULL|    28.0|Barcelona y alred...|   {Douglas, Alfred}|[AutoCAD, MS Proj...|                NULL|Gerente de Cister...|https://www.linke...|\n",
            "|  primordial-flight|[{Bachelor of Art...|                  []|[{I am still acti...|{[Realty Services...|[Chicago Apartmen...|        Online Media|business, investm...|     0.0|San Leandro, Cali...|  {Russell, Barkley}|[Negotiation, Res...|contract negotiat...|Sales, Management...|https://www.linke...|\n",
            "|    absolute-bazaar|                NULL|                  []|[{In charge of Pr...|                NULL|                NULL|   Computer Software|                NULL|     0.0|Vancouver, Canada...| {Ogilvy, Leporello}|[Executive Manage...|                NULL|                NULL|https://www.linke...|\n",
            "|      proud-trainer|[{Level 5 - Proce...|                  []|[{Decision Suport...|{[Antigos Alunos ...|                NULL|Tecnologia da inf...|                NULL|     0.0|Lisbon Area, Port...|  {Lennox, Merriman}|                NULL|                NULL|- Microsoft SQL S...|https://www.linke...|\n",
            "|          flat-beef|[{NULL, , 1995, N...|[{24018, Mediaedg...|[{NULL, Present, ...|                NULL|                NULL|Marketing and Adv...|                NULL|    45.0|New South Wales, ...|{Charteris, Barry...|[Media Planning, ...|                NULL|                NULL|https://www.linke...|\n",
            "+-------------------+--------------------+--------------------+--------------------+--------------------+--------------------+--------------------+--------------------+--------+--------------------+--------------------+--------------------+--------------------+--------------------+--------------------+\n",
            "only showing top 5 rows\n",
            "\n"
          ]
        }
      ]
    },
    {
      "cell_type": "code",
      "metadata": {
        "id": "yur38PPmVGt-",
        "colab": {
          "base_uri": "https://localhost:8080/"
        },
        "outputId": "8bd295a7-165d-4d6e-deb1-a48a4168b1d1"
      },
      "source": [
        "spark.sql(\"select _id, name.given_name, name.family_name from linked_in\").show(5)"
      ],
      "execution_count": 16,
      "outputs": [
        {
          "output_type": "stream",
          "name": "stdout",
          "text": [
            "+-----------------+----------+-----------+\n",
            "|              _id|given_name|family_name|\n",
            "+-----------------+----------+-----------+\n",
            "|    matching-form|  Merriman|   Sterling|\n",
            "|     tender-river| Bullimore|      Rollo|\n",
            "|fermented-vehicle|   Cadbury|Livingstone|\n",
            "|  overcast-vector|    Figaro|     Ramsay|\n",
            "|  mean-projectile| Barrymore|    Kennedy|\n",
            "+-----------------+----------+-----------+\n",
            "only showing top 5 rows\n",
            "\n"
          ]
        }
      ]
    },
    {
      "cell_type": "markdown",
      "source": [
        "This currently (Fall 2025) does not work between Colab and Apache Spark on Amazon Elastic Mapreduce, simply because Amazon EMR is 3 versions behind in Python (3.9 vs 3.12). When an updated EMR is available, it will work"
      ],
      "metadata": {
        "id": "Y-Y3apDpePsd"
      }
    },
    {
      "cell_type": "code",
      "metadata": {
        "id": "VcvsuNw9Tr6k"
      },
      "source": [
        "from pyspark.sql.functions import udf\n",
        "from pyspark.sql.types import StringType\n",
        "\n",
        "@udf(returnType=StringType(), useArrow=True)\n",
        "def acro(x: str):\n",
        "    return ''.join([n[0] for n in x.split()])\n",
        "\n",
        "# linked_df.select(\"_id\", acro(\"locality\").alias(\"acronym\")).show(5)"
      ],
      "execution_count": 17,
      "outputs": []
    },
    {
      "cell_type": "code",
      "metadata": {
        "id": "bgMW4qFCQf4W",
        "colab": {
          "base_uri": "https://localhost:8080/"
        },
        "outputId": "d82ee609-ae34-4e5a-e95d-f682d0021bc6"
      },
      "source": [
        "# Which industries are most popular?\n",
        "spark.sql('select count(_id), industry '+\\\n",
        "               'from linked_in '+\\\n",
        "               'group by industry '+\\\n",
        "               'order by count(_id) desc').\\\n",
        "    show(5)"
      ],
      "execution_count": 18,
      "outputs": [
        {
          "output_type": "stream",
          "name": "stdout",
          "text": [
            "+----------+--------------------+\n",
            "|count(_id)|            industry|\n",
            "+----------+--------------------+\n",
            "|      5437|Information Techn...|\n",
            "|      3396|   Computer Software|\n",
            "|      2571|Marketing and Adv...|\n",
            "|      2089|            Internet|\n",
            "|      1485|  Financial Services|\n",
            "+----------+--------------------+\n",
            "only showing top 5 rows\n",
            "\n"
          ]
        }
      ]
    },
    {
      "cell_type": "markdown",
      "metadata": {
        "id": "WRrsSWsmI7pG"
      },
      "source": [
        "## Graphs\n",
        "\n",
        "For the next set of examples, we will look at graph-structured data.  It turns out our LinkedIn dataset has a list of nodes (by int ID, but associated with the user ID we used in the linked_in table) and a list of edges."
      ]
    },
    {
      "cell_type": "code",
      "source": [
        "# Let's consider edges to be bidirectional\n",
        "# from people and the organizations they work for\n",
        "temp_df = spark.sql(\"\"\"\n",
        "  CREATE TEMPORARY VIEW edges_nested AS\n",
        "  SELECT _id AS from, explode(experience) AS to\n",
        "  FROM linked_in\n",
        "\"\"\")\n",
        "\n",
        "# Create graph with edges in each direction\n",
        "edges_df = spark.sql('''\n",
        "  select from, to.org as to from edges_nested\n",
        "  union\n",
        "  select to.org as from, from as to from edges_nested\n",
        "  ''')\n",
        "\n",
        "edges_df.show(5)"
      ],
      "metadata": {
        "id": "cxLTnf2xjzeR",
        "colab": {
          "base_uri": "https://localhost:8080/"
        },
        "outputId": "aaae4b79-54b2-4dc2-b99e-11e36c2851da"
      },
      "execution_count": 19,
      "outputs": [
        {
          "output_type": "stream",
          "name": "stdout",
          "text": [
            "+----------------+--------------------+\n",
            "|            from|                  to|\n",
            "+----------------+--------------------+\n",
            "|  cheerful-anode|Nikiel & Zacharze...|\n",
            "|  tender-paprika|                 UGT|\n",
            "| absolute-prison|University of Mic...|\n",
            "|  interior-board|Enterprise Inform...|\n",
            "|pleasant-skipper|HAN / ROC RijnIJs...|\n",
            "+----------------+--------------------+\n",
            "only showing top 5 rows\n",
            "\n"
          ]
        }
      ]
    },
    {
      "cell_type": "code",
      "source": [
        "edges_df.printSchema()"
      ],
      "metadata": {
        "id": "O4jX8fpUmWtj",
        "colab": {
          "base_uri": "https://localhost:8080/"
        },
        "outputId": "47fde24c-fc86-4882-d283-905adcd3f977"
      },
      "execution_count": 20,
      "outputs": [
        {
          "output_type": "stream",
          "name": "stdout",
          "text": [
            "root\n",
            " |-- from: string (nullable = true)\n",
            " |-- to: string (nullable = true)\n",
            "\n"
          ]
        }
      ]
    },
    {
      "cell_type": "code",
      "metadata": {
        "id": "sV4WTTHohshi",
        "colab": {
          "base_uri": "https://localhost:8080/"
        },
        "outputId": "5c12776a-eaa6-44fa-c27e-c8a207563717"
      },
      "source": [
        "edges_df.createOrReplaceTempView('edges')\n",
        "spark.sql('select from as id, count(to) as degree from edges group by from').show(5)"
      ],
      "execution_count": 21,
      "outputs": [
        {
          "output_type": "stream",
          "name": "stdout",
          "text": [
            "+-------------------+------+\n",
            "|                 id|degree|\n",
            "+-------------------+------+\n",
            "|               NULL|    73|\n",
            "|      ash-euphemism|     4|\n",
            "|     moderato-phase|     4|\n",
            "|     fried-olympics|    13|\n",
            "|exhaustive-diatonic|    10|\n",
            "+-------------------+------+\n",
            "only showing top 5 rows\n",
            "\n"
          ]
        }
      ]
    },
    {
      "cell_type": "markdown",
      "metadata": {
        "id": "kbXkhbzOk1ZK"
      },
      "source": [
        "## Traversing the Graph"
      ]
    },
    {
      "cell_type": "code",
      "metadata": {
        "id": "PAJ_BjL1kiQi",
        "colab": {
          "base_uri": "https://localhost:8080/"
        },
        "outputId": "d0fc5cdd-2ae3-43b1-853c-4593d1064d8e"
      },
      "source": [
        "from pyspark.sql.functions import col\n",
        "\n",
        "# Start with a subset of nodes, looking at everything\n",
        "# that could be considered a number under 1000\n",
        "start_nodes_df = edges_df[['from']].filter(edges_df['from'] < 1000).\\\n",
        "  select(col('from').alias('id')).drop_duplicates()\n",
        "\n",
        "print('{} start nodes'.format(start_nodes_df.count()))\n",
        "start_nodes_df.show(9)\n",
        "\n",
        "# The neighbors require us to join\n",
        "# and we'll use Spark DataFrames syntax here\n",
        "neighbor_nodes_df = start_nodes_df.\\\n",
        "  join(edges_df.alias('e'), start_nodes_df.id == col('e.from')).\\\n",
        "  select(col('to').alias('id'))\n",
        "\n",
        "neighbor_nodes_df.show(5)"
      ],
      "execution_count": 22,
      "outputs": [
        {
          "output_type": "stream",
          "name": "stdout",
          "text": [
            "9 start nodes\n",
            "+---+\n",
            "| id|\n",
            "+---+\n",
            "|  .|\n",
            "| 23|\n",
            "| 26|\n",
            "|636|\n",
            "|  3|\n",
            "|  1|\n",
            "|212|\n",
            "|.99|\n",
            "|513|\n",
            "+---+\n",
            "\n",
            "+-------------+\n",
            "|           id|\n",
            "+-------------+\n",
            "|  median-helo|\n",
            "| offline-mint|\n",
            "|crunchy-claim|\n",
            "|    sunny-ayu|\n",
            "| clear-period|\n",
            "+-------------+\n",
            "only showing top 5 rows\n",
            "\n"
          ]
        }
      ]
    },
    {
      "cell_type": "code",
      "metadata": {
        "id": "LpoPxuPQnmNQ",
        "colab": {
          "base_uri": "https://localhost:8080/"
        },
        "outputId": "0b94977b-7203-4ea2-b7d5-cfdff407fbd3"
      },
      "source": [
        "edges_df[['from']].orderBy('from').drop_duplicates().show()\n",
        "\n",
        "edges_df.filter(edges_df['from'] == '1').show()"
      ],
      "execution_count": 23,
      "outputs": [
        {
          "output_type": "stream",
          "name": "stdout",
          "text": [
            "+--------------------+\n",
            "|                from|\n",
            "+--------------------+\n",
            "|                NULL|\n",
            "|Kjøbenhavns Boldklub|\n",
            "|MARICO INDUSTRIES...|\n",
            "|      ArtIstanbul PR|\n",
            "|       doughy-format|\n",
            "|brute-force-instance|\n",
            "|       ash-euphemism|\n",
            "|         glass-grove|\n",
            "|      Further Afield|\n",
            "|Orchestre symphon...|\n",
            "|B.I.T. Mesra, Ranchi|\n",
            "|          Expy, Inc.|\n",
            "|        daring-layer|\n",
            "|       boolean-triad|\n",
            "|             icy-tin|\n",
            "|       humane-script|\n",
            "|      careful-height|\n",
            "|       either-symbol|\n",
            "|         finite-tint|\n",
            "|      rancid-cobbler|\n",
            "+--------------------+\n",
            "only showing top 20 rows\n",
            "\n",
            "+----+------------+\n",
            "|from|          to|\n",
            "+----+------------+\n",
            "|   1|nippy-folder|\n",
            "+----+------------+\n",
            "\n"
          ]
        }
      ]
    },
    {
      "cell_type": "code",
      "metadata": {
        "id": "N-pnH4lKqNiV",
        "colab": {
          "base_uri": "https://localhost:8080/"
        },
        "outputId": "00e74419-4001-4fd3-8e09-3d3239199c8b"
      },
      "source": [
        "neighbor_neighbor_nodes_df = neighbor_nodes_df.\\\n",
        "  join(edges_df.alias('e'), neighbor_nodes_df.id == col('e.from')).\\\n",
        "  select(col('to').alias('id'))\n",
        "\n",
        "neighbor_neighbor_nodes_df.show(5)"
      ],
      "execution_count": 24,
      "outputs": [
        {
          "output_type": "stream",
          "name": "stdout",
          "text": [
            "+--------------------+\n",
            "|                  id|\n",
            "+--------------------+\n",
            "|                   .|\n",
            "|   Advus Corporation|\n",
            "|Grupo Santander B...|\n",
            "|     Photon Infotech|\n",
            "|      Reino Aventura|\n",
            "+--------------------+\n",
            "only showing top 5 rows\n",
            "\n"
          ]
        }
      ]
    },
    {
      "cell_type": "markdown",
      "source": [
        "Let's find a small subset of our graph that actually connects somewhere."
      ],
      "metadata": {
        "id": "-esxdcgYqsHt"
      }
    },
    {
      "cell_type": "code",
      "source": [
        "start_nodes_df.createOrReplaceTempView('start_nodes')\n",
        "edges_df.createOrReplaceTempView('edges')\n",
        "\n",
        "spark.sql(\"\"\"\n",
        "  select e1.from as from, e1.to as med, e2.to as to\n",
        "  from start_nodes s join edges e1 on s.id=e1.from join edges e2 on e1.to = e2.from\n",
        "\"\"\").show(5)\n",
        "\n",
        "# This will be the starting\n",
        "start_df = spark.sql(\"\"\"\n",
        "  select e1.from as from, e1.to as to\n",
        "  from start_nodes s join edges e1 on s.id=e1.from\n",
        "\"\"\")\n",
        "\n",
        "start_df.show(5)"
      ],
      "metadata": {
        "id": "rmIX4Pd4o1Gj",
        "colab": {
          "base_uri": "https://localhost:8080/"
        },
        "outputId": "bff6ddbd-ec7e-4b2c-af32-83066efa5864"
      },
      "execution_count": 25,
      "outputs": [
        {
          "output_type": "stream",
          "name": "stdout",
          "text": [
            "+----+-------------------+--------------------+\n",
            "|from|                med|                  to|\n",
            "+----+-------------------+--------------------+\n",
            "|   .|matching-commission|                   .|\n",
            "|   .|       greasy-chain|   Advus Corporation|\n",
            "|   .|       greasy-chain|Grupo Santander B...|\n",
            "|   .|      light-entropy|     Photon Infotech|\n",
            "|  23|     champagne-grid|      Reino Aventura|\n",
            "+----+-------------------+--------------------+\n",
            "only showing top 5 rows\n",
            "\n",
            "+----+---------------+\n",
            "|from|             to|\n",
            "+----+---------------+\n",
            "|   .|sunny-interface|\n",
            "|   .|    median-helo|\n",
            "|   .|   offline-mint|\n",
            "|   .|  crunchy-claim|\n",
            "|   .|      sunny-ayu|\n",
            "+----+---------------+\n",
            "only showing top 5 rows\n",
            "\n"
          ]
        }
      ]
    },
    {
      "cell_type": "code",
      "metadata": {
        "id": "ZvsJ2_LNsTbe"
      },
      "source": [
        "def iterate(df, edges, depth):\n",
        "  df.createOrReplaceTempView('base')\n",
        "  edges.createOrReplaceTempView('iter')\n",
        "\n",
        "  # Base case: direct connection\n",
        "  result = spark.sql('select from, to, 1 as depth from base')\n",
        "\n",
        "  for i in range(1, depth):\n",
        "    result.createOrReplaceTempView('result')\n",
        "    result = spark.sql(\"\"\"select r1.from as from, r2.to as to, r1.depth+1 as depth\n",
        "                            from result r1 join iter r2\n",
        "                            on r1.to=r2.from\n",
        "                            where r1.from <> r2.to\n",
        "                            \"\"\")\n",
        "  return result"
      ],
      "execution_count": 26,
      "outputs": []
    },
    {
      "cell_type": "code",
      "metadata": {
        "id": "MjiE4BBMuwqv",
        "colab": {
          "base_uri": "https://localhost:8080/"
        },
        "outputId": "dcfb046d-3809-4d62-b934-b1725415da9e"
      },
      "source": [
        "iterate(start_df, edges_df, 1).orderBy('from','to').show()"
      ],
      "execution_count": 27,
      "outputs": [
        {
          "output_type": "stream",
          "name": "stdout",
          "text": [
            "+----+-------------------+-----+\n",
            "|from|                 to|depth|\n",
            "+----+-------------------+-----+\n",
            "|   .|aquamarine-fortress|    1|\n",
            "|   .|     avocado-umpire|    1|\n",
            "|   .|    blaring-trainer|    1|\n",
            "|   .|         canary-bow|    1|\n",
            "|   .|     chestnut-liner|    1|\n",
            "|   .|        citric-byte|    1|\n",
            "|   .|       clear-period|    1|\n",
            "|   .|      crunchy-claim|    1|\n",
            "|   .|        devout-harp|    1|\n",
            "|   .|       direct-force|    1|\n",
            "|   .|          dry-fixed|    1|\n",
            "|   .|       greasy-chain|    1|\n",
            "|   .|        humid-lodge|    1|\n",
            "|   .|     isochoric-drum|    1|\n",
            "|   .|      light-entropy|    1|\n",
            "|   .|matching-commission|    1|\n",
            "|   .|        median-helo|    1|\n",
            "|   .|     mild-animation|    1|\n",
            "|   .|      noisy-diction|    1|\n",
            "|   .|       offline-mint|    1|\n",
            "+----+-------------------+-----+\n",
            "only showing top 20 rows\n",
            "\n"
          ]
        }
      ]
    },
    {
      "cell_type": "code",
      "metadata": {
        "id": "63RGiC1euw-y",
        "colab": {
          "base_uri": "https://localhost:8080/"
        },
        "outputId": "735785e0-4af7-43be-eff3-f9efec58be7f"
      },
      "source": [
        "iterate(start_df, edges_df, 2).orderBy('from','to').show()"
      ],
      "execution_count": 28,
      "outputs": [
        {
          "output_type": "stream",
          "name": "stdout",
          "text": [
            "+----+--------------------+-----+\n",
            "|from|                  to|depth|\n",
            "+----+--------------------+-----+\n",
            "|   .|ABRA Enterprises,...|    2|\n",
            "|   .|       AT IT Limited|    2|\n",
            "|   .|Advanced Systems ...|    2|\n",
            "|   .|   Advus Corporation|    2|\n",
            "|   .|Airtours Internat...|    2|\n",
            "|   .|Airtours Internat...|    2|\n",
            "|   .|Airtours plc seco...|    2|\n",
            "|   .|         Alinma Bank|    2|\n",
            "|   .|     Aspen Insurance|    2|\n",
            "|   .| BAE Defense Systems|    2|\n",
            "|   .|    Baan Development|    2|\n",
            "|   .|          Baan/Xebic|    2|\n",
            "|   .|    Bayer Healthcare|    2|\n",
            "|   .|     Belastingdienst|    2|\n",
            "|   .|             Betfair|    2|\n",
            "|   .|CASE Communicatio...|    2|\n",
            "|   .|CableCom Networki...|    2|\n",
            "|   .|             Camelot|    2|\n",
            "|   .|Canadian Leisure ...|    2|\n",
            "|   .|   Canon New Zealand|    2|\n",
            "+----+--------------------+-----+\n",
            "only showing top 20 rows\n",
            "\n"
          ]
        }
      ]
    },
    {
      "cell_type": "code",
      "metadata": {
        "id": "2wG7vMrXuxFr",
        "colab": {
          "base_uri": "https://localhost:8080/"
        },
        "outputId": "95b1480f-2bd8-4990-d097-a06afcab25e8"
      },
      "source": [
        "iterate(start_df, edges_df, 3).orderBy('from','to').show()"
      ],
      "execution_count": 29,
      "outputs": [
        {
          "output_type": "stream",
          "name": "stdout",
          "text": [
            "+----+-------------------+-----+\n",
            "|from|                 to|depth|\n",
            "+----+-------------------+-----+\n",
            "|   .|  absolute-cabernet|    3|\n",
            "|   .|      absolute-fort|    3|\n",
            "|   .| accepting-ancestor|    3|\n",
            "|   .|  achromatic-panini|    3|\n",
            "|   .|  achromatic-pepato|    3|\n",
            "|   .|  achromatic-pepato|    3|\n",
            "|   .|achromatic-revolver|    3|\n",
            "|   .|  achromatic-upload|    3|\n",
            "|   .|       acidic-asset|    3|\n",
            "|   .|       acidic-delta|    3|\n",
            "|   .|acoustic-rottweiler|    3|\n",
            "|   .|      active-energy|    3|\n",
            "|   .|       active-event|    3|\n",
            "|   .|       active-liner|    3|\n",
            "|   .|        active-roof|    3|\n",
            "|   .|    acute-amplifier|    3|\n",
            "|   .|      acute-halibut|    3|\n",
            "|   .|       acyclic-halo|    3|\n",
            "|   .|  adaptive-bisector|    3|\n",
            "|   .|adaptive-gorgonzola|    3|\n",
            "+----+-------------------+-----+\n",
            "only showing top 20 rows\n",
            "\n"
          ]
        }
      ]
    },
    {
      "cell_type": "markdown",
      "metadata": {
        "id": "akCba0mxkikw"
      },
      "source": [
        "## Joins in Spark, Beyond Graph Traversals\n",
        "\n",
        "\n",
        "What if we want to look at relationships between people -- say, co-working?  This involves looking at people and going *every 2 hops* because there are organizations in between."
      ]
    },
    {
      "cell_type": "markdown",
      "metadata": {
        "id": "ecVwMCIspVPc"
      },
      "source": [
        "## Finding Coworkers, by ID\n",
        "\n",
        "Let's get our people first!"
      ]
    },
    {
      "cell_type": "code",
      "source": [
        "nodes_df = spark.sql(\"\"\"\n",
        "    select _id as nid, concat(name.given_name, ' ', name.family_name) as user, industry\n",
        "    from linked_in\n",
        "  \"\"\")"
      ],
      "metadata": {
        "id": "kAebehE8r9br"
      },
      "execution_count": 30,
      "outputs": []
    },
    {
      "cell_type": "code",
      "source": [
        "nodes_df.createOrReplaceTempView('nodes')\n",
        "\n",
        "# Let's limit coworkers to edges that start\n",
        "# from existing workers, and are 2 hops away (through a company)\n",
        "coworked_df = spark.sql(\"\"\"\n",
        "  select e1.from, e2.to as to\n",
        "  from edges e1 join edges e2 on e1.to = e2.from\n",
        "  where e1.from in (select nid from nodes)\n",
        "\"\"\")"
      ],
      "metadata": {
        "id": "LU-MNBMvsOf3"
      },
      "execution_count": 31,
      "outputs": []
    },
    {
      "cell_type": "code",
      "metadata": {
        "id": "18K1_i1jZ94B",
        "colab": {
          "base_uri": "https://localhost:8080/"
        },
        "outputId": "cabfe669-123d-4a67-f4c0-c291692f6b98"
      },
      "source": [
        "nodes_df.createOrReplaceTempView('nodes')\n",
        "coworked_df.createOrReplaceTempView('edges')\n",
        "\n",
        "coworkers_df = spark.sql(\"\"\"SELECT n1.user, n2.user as coworker\n",
        "               FROM (nodes n1 join edges e on n1.nid = e.from) join nodes n2 on e.to = n2.nid\n",
        "               WHERE n1.user <> n2.user\n",
        "               \"\"\")\n",
        "\n",
        "coworkers_df.show(5)\n"
      ],
      "execution_count": 32,
      "outputs": [
        {
          "output_type": "stream",
          "name": "stdout",
          "text": [
            "+------------------+-------------------+\n",
            "|              user|           coworker|\n",
            "+------------------+-------------------+\n",
            "|     Brunton Munro|Merriman Sutherland|\n",
            "|Bullimore Sinclair|Merriman Sutherland|\n",
            "|      Figaro Creel|Merriman Sutherland|\n",
            "|    Leporello Greg|Merriman Sutherland|\n",
            "|  Barrymore Fraser|Merriman Sutherland|\n",
            "+------------------+-------------------+\n",
            "only showing top 5 rows\n",
            "\n"
          ]
        }
      ]
    },
    {
      "cell_type": "markdown",
      "source": [
        "## Exercise\n",
        "\n",
        "Can you find the *company* with the most common coworker pairs?\n",
        "\n",
        "As a starting point, let's pull back the original edges table..."
      ],
      "metadata": {
        "id": "sZCvjQKHtT7p"
      }
    },
    {
      "cell_type": "code",
      "source": [
        "edges_df.createOrReplaceTempView(\"edges\")\n"
      ],
      "metadata": {
        "id": "ga15yqBLtuXe"
      },
      "execution_count": 33,
      "outputs": []
    },
    {
      "cell_type": "markdown",
      "source": [
        "Be sure to find the top-1 organization by count (you should return the `org` and the `count` in the schema).\n",
        "\n",
        "Recall that SQL has `ORDER BY` and `LIMIT` clauses."
      ],
      "metadata": {
        "id": "NRAC14bdSOHj"
      }
    },
    {
      "cell_type": "markdown",
      "source": [],
      "metadata": {
        "id": "ISIzrRTcde05"
      }
    },
    {
      "cell_type": "code",
      "metadata": {
        "id": "UtAN7dmxgSgH",
        "colab": {
          "base_uri": "https://localhost:8080/"
        },
        "outputId": "cc40f9aa-11f0-42d3-8c38-2991bcb08940"
      },
      "source": [
        "# TODO: create coworkers_company_sdf (Spark DataFrame).\n",
        "# You don't need to convert to Pandas\n",
        "coworkers_company_sdf = spark.sql(\"\"\"SELECT e1.to as org, COUNT(*) as count\n",
        "    FROM edges e1\n",
        "    JOIN edges e2 ON e1.to = e2.from\n",
        "    JOIN nodes n1 ON e1.from = n1.nid\n",
        "    JOIN nodes n2 ON e2.to = n2.nid\n",
        "    WHERE n1.user <> n2.user\n",
        "    GROUP BY e1.to\n",
        "    ORDER BY count DESC\n",
        "    LIMIT 1\n",
        "    \"\"\")\n",
        "# Make sure you only get one result from this!\n",
        "coworkers_company_sdf.show(2)"
      ],
      "execution_count": 40,
      "outputs": [
        {
          "output_type": "stream",
          "name": "stdout",
          "text": [
            "+---+------+\n",
            "|org| count|\n",
            "+---+------+\n",
            "|IBM|272894|\n",
            "+---+------+\n",
            "\n"
          ]
        }
      ]
    },
    {
      "cell_type": "code",
      "source": [
        "import pandas as pd\n",
        "\n",
        "coworkers_company_df = pd.DataFrame(coworkers_company_sdf.collect(),columns=coworkers_company_sdf.columns)\n",
        "\n",
        "if not isinstance(coworkers_company_df, pd.DataFrame) or not 'org' in coworkers_company_df.columns:\n",
        "  raise TypeError(\"Data should be in a DataFrame and organization should be a column\")\n",
        "\n",
        "grader.grade('top_coworkers', coworkers_company_df)"
      ],
      "metadata": {
        "id": "pztBTDs3uezL",
        "colab": {
          "base_uri": "https://localhost:8080/"
        },
        "outputId": "68a8ca8e-dd9c-4940-c2f4-19e40cd32881"
      },
      "execution_count": 41,
      "outputs": [
        {
          "output_type": "stream",
          "name": "stdout",
          "text": [
            "Correct! You earned 1/1 points. You are a star!\n",
            "\n",
            "Your submission has been successfully recorded in the gradebook.\n"
          ]
        }
      ]
    },
    {
      "cell_type": "code",
      "source": [],
      "metadata": {
        "id": "oED_dhAqxJlV"
      },
      "execution_count": null,
      "outputs": []
    }
  ]
}